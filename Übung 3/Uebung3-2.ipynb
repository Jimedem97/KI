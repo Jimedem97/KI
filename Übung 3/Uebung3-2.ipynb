{
 "metadata": {
  "language_info": {
   "codemirror_mode": {
    "name": "ipython",
    "version": 3
   },
   "file_extension": ".py",
   "mimetype": "text/x-python",
   "name": "python",
   "nbconvert_exporter": "python",
   "pygments_lexer": "ipython3",
   "version": "3.8.3"
  },
  "orig_nbformat": 2,
  "kernelspec": {
   "name": "python383jvsc74a57bd0415bf6fd9d1100dfd2066d2c88b34aec972079c3c4f1b183feab8a8bfd8d55a2",
   "display_name": "Python 3.8.3 64-bit (conda)"
  }
 },
 "nbformat": 4,
 "nbformat_minor": 2,
 "cells": [
  {
   "cell_type": "code",
   "execution_count": 1,
   "metadata": {
    "tags": []
   },
   "outputs": [
    {
     "output_type": "stream",
     "name": "stdout",
     "text": [
      "244\n2154\n"
     ]
    }
   ],
   "source": [
    "import string\n",
    "valid_chars = string.ascii_letters + \"ÄÖÜäöüß-\" + string.punctuation + \\\n",
    "    string.digits + string.whitespace + '–'\n",
    "\n",
    "def contains_valid_chars(words):\n",
    "  for word in words:\n",
    "    for c in word:\n",
    "      if c not in valid_chars:\n",
    "        return False\n",
    "  return True\n",
    "\n",
    "\n",
    "def filterData(path):\n",
    "  \n",
    "  result = []\n",
    "  \n",
    "  \n",
    "  with open(path, \"r\", encoding=\"utf-8\") as file1:\n",
    "      data = file1.readlines()\n",
    "      \n",
    "      for line in data:\n",
    "        words = line.split(';',1)\n",
    "        if not contains_valid_chars(words):\n",
    "          continue\n",
    "        if words[0] == 'Wirtschaft' or words[0] == 'Sport':\n",
    "          result.append(words)\n",
    "  return result\n",
    "filtered_test_data = filterData(\"data/test.csv\")\n",
    "filtered_train_data = filterData(\"data/train.csv\")\n",
    "\n",
    "print(len(filtered_test_data))\n",
    "print(len(filtered_train_data))"
   ]
  },
  {
   "cell_type": "code",
   "execution_count": 2,
   "metadata": {},
   "outputs": [],
   "source": [
    "import spacy\n",
    "import de_core_news_md"
   ]
  },
  {
   "cell_type": "code",
   "execution_count": 3,
   "metadata": {
    "tags": []
   },
   "outputs": [],
   "source": [
    "nlp = spacy.load('de_core_news_md')\n",
    "nlp.max_length = 6000000\n",
    "dataForTokens = \"\"\n",
    "\n",
    "\n",
    "        \n",
    "def tokenize(data):\n",
    "    counts = dict()\n",
    "\n",
    "    for row in data:\n",
    "        doc = nlp(row[1]) \n",
    "        for token in doc:\n",
    "            if not token.is_stop and not token.is_punct:\n",
    "                counts[token.text] = counts.get(token.text, 0) + 1\n",
    "    newCounts = dict(sorted(counts.items(), key=lambda item: item[1], reverse=True))\n",
    "    return list(newCounts.keys())[:5000]\n",
    "\n",
    "tokenizedTrainData = tokenize(filtered_train_data)"
   ]
  },
  {
   "cell_type": "code",
   "execution_count": 4,
   "metadata": {
    "tags": []
   },
   "outputs": [],
   "source": [
    "word_to_idx = {}\n",
    "for tag in tokenizedTrainData:\n",
    "    if tag not in word_to_idx:\n",
    "        word_to_idx[tag] = len(word_to_idx)   "
   ]
  },
  {
   "cell_type": "code",
   "execution_count": 5,
   "metadata": {},
   "outputs": [],
   "source": [
    "import torch\n",
    "import torch.nn as nn\n",
    "import torch.nn.functional as F\n",
    "import torch.optim as optim\n",
    "\n",
    "class LSTMTagger(nn.Module):\n",
    "\n",
    "    def __init__(self, embedding_dim, hidden_dim, vocab_size, tagset_size):\n",
    "        super(LSTMTagger, self).__init__()\n",
    "        self.hidden_dim = hidden_dim\n",
    "\n",
    "        self.word_embeddings = nn.Embedding(vocab_size, embedding_dim)\n",
    "\n",
    "        # The LSTM takes word embeddings as inputs, and outputs hidden states\n",
    "        # with dimensionality hidden_dim.\n",
    "        self.lstm = nn.LSTM(embedding_dim, hidden_dim)\n",
    "\n",
    "        # The linear layer that maps from hidden state space to tag space\n",
    "        self.hidden2tag = nn.Linear(hidden_dim, tagset_size)\n",
    "\n",
    "    def forward(self, sentence):\n",
    "        embeds = self.word_embeddings(sentence)\n",
    "        lstm_out, _ = self.lstm(embeds.view(len(sentence), 1, -1))\n",
    "        tag_space = self.hidden2tag(lstm_out.view(len(sentence), -1))\n",
    "        tag_scores = F.log_softmax(tag_space, dim=1)\n",
    "        return tag_scores"
   ]
  },
  {
   "cell_type": "code",
   "execution_count": 6,
   "metadata": {},
   "outputs": [],
   "source": [
    "EMBEDDING_DIM = 128\n",
    "HIDDEN_DIM = 256"
   ]
  },
  {
   "cell_type": "code",
   "execution_count": 7,
   "metadata": {},
   "outputs": [],
   "source": [
    "tag_to_idx = {\"Wirtschaft\":0, \"Sport\":1}"
   ]
  },
  {
   "cell_type": "code",
   "execution_count": 11,
   "metadata": {},
   "outputs": [],
   "source": [
    "model = LSTMTagger(EMBEDDING_DIM, HIDDEN_DIM, len(word_to_idx), len(tag_to_idx))\n",
    "loss_function = nn.NLLLoss()\n",
    "optimizer = optim.SGD(model.parameters(), lr=0.1)"
   ]
  },
  {
   "cell_type": "code",
   "execution_count": 12,
   "metadata": {
    "tags": []
   },
   "outputs": [],
   "source": [
    "def prepare_sequence(seq, to_ix):\n",
    "    tokens = nlp(seq)\n",
    "    idxs = []\n",
    "    for token in tokens:\n",
    "        if token.text in to_ix:\n",
    "            idxs.append(to_ix[token.text])\n",
    "    return torch.tensor(idxs, dtype=torch.long)\n",
    "\n",
    "def calcAccuracy():\n",
    "    accuracy = 0\n",
    "    with torch.no_grad():\n",
    "        for tag, sentence in filtered_test_data:\n",
    "            sentence_in = prepare_sequence(sentence, word_to_idx)\n",
    "            tag_scores = model(sentence_in)\n",
    "            idx = torch.argmax(tag_scores[-1]).item()\n",
    "            if list(tag_to_idx.keys())[idx] == tag:\n",
    "                accuracy+=1\n",
    "    print(\"test accuracy: \" + str(accuracy/len(filtered_test_data)))"
   ]
  },
  {
   "cell_type": "code",
   "execution_count": 13,
   "metadata": {
    "tags": []
   },
   "outputs": [
    {
     "output_type": "stream",
     "name": "stdout",
     "text": [
      "test accuracy: 0.4672131147540984\n"
     ]
    }
   ],
   "source": [
    "calcAccuracy()"
   ]
  },
  {
   "cell_type": "code",
   "execution_count": 14,
   "metadata": {
    "tags": []
   },
   "outputs": [
    {
     "output_type": "stream",
     "name": "stdout",
     "text": [
      "2153/2154\n",
      "epoch: 0\n",
      "duration: 426.5187346935272\n",
      "train accuracy: 0.6648096564531105\n",
      "train loss: tensor(0.6031, grad_fn=<DivBackward0>)\n",
      "test accuracy: 0.7336065573770492\n",
      "2153/2154\n",
      "epoch: 1\n",
      "duration: 419.2662868499756\n",
      "train accuracy: 0.8662952646239555\n",
      "train loss: tensor(0.3400, grad_fn=<DivBackward0>)\n",
      "test accuracy: 0.8729508196721312\n",
      "2153/2154\n",
      "epoch: 2\n",
      "duration: 327.5089018344879\n",
      "train accuracy: 0.9373259052924791\n",
      "train loss: tensor(0.1799, grad_fn=<DivBackward0>)\n",
      "test accuracy: 0.9385245901639344\n",
      "2153/2154\n",
      "epoch: 3\n",
      "duration: 307.0843172073364\n",
      "train accuracy: 0.872794800371402\n",
      "train loss: tensor(0.2807, grad_fn=<DivBackward0>)\n",
      "test accuracy: 0.9139344262295082\n",
      "2153/2154\n",
      "epoch: 4\n",
      "duration: 303.7459948062897\n",
      "train accuracy: 0.9498607242339833\n",
      "train loss: tensor(0.1370, grad_fn=<DivBackward0>)\n",
      "test accuracy: 0.9508196721311475\n"
     ]
    }
   ],
   "source": [
    "import time\n",
    "\n",
    "for epoch in range(5):\n",
    "    accuracy = 0\n",
    "    start_time = time.time()\n",
    "    i = 0\n",
    "    meanLoss = 0\n",
    "    for tag, sentence in filtered_train_data:\n",
    "        model.zero_grad()\n",
    "        sentence_in = prepare_sequence(sentence, word_to_idx)\n",
    "        tag_scores = model(sentence_in)\n",
    "        idx = torch.argmax(tag_scores[-1]).item()\n",
    "        target = tag_to_idx[tag]\n",
    "        if target == idx:\n",
    "            accuracy+=1\n",
    "        score = tag_scores[-1].view(1,2)\n",
    "        loss = loss_function(score,torch.tensor([target], dtype = torch.long))\n",
    "        meanLoss += loss\n",
    "        loss.backward()\n",
    "        optimizer.step()\n",
    "        sys.stdout.write(\"\\r%d/%d\" %(i, len(filtered_train_data)))\n",
    "        sys.stdout.flush()\n",
    "        i+=1\n",
    "    print()\n",
    "    print(\"epoch: \" + str(epoch))\n",
    "    print(\"duration: \" + str(time.time() - start_time))\n",
    "    print(\"train accuracy: \" + str(accuracy/len(filtered_train_data)))\n",
    "    print(\"train loss: \"+ str(meanLoss/len(filtered_train_data)))\n",
    "    calcAccuracy()     "
   ]
  },
  {
   "cell_type": "code",
   "execution_count": 12,
   "metadata": {},
   "outputs": [
    {
     "output_type": "execute_result",
     "data": {
      "text/plain": [
       "5000"
      ]
     },
     "metadata": {},
     "execution_count": 12
    }
   ],
   "source": []
  },
  {
   "cell_type": "code",
   "execution_count": null,
   "metadata": {},
   "outputs": [],
   "source": []
  }
 ]
}